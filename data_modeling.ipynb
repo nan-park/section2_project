{
  "nbformat": 4,
  "nbformat_minor": 0,
  "metadata": {
    "colab": {
      "provenance": [],
      "authorship_tag": "ABX9TyP1/IlH6PZfHZNQZNxtllYE",
      "include_colab_link": true
    },
    "kernelspec": {
      "name": "python3",
      "display_name": "Python 3"
    },
    "language_info": {
      "name": "python"
    }
  },
  "cells": [
    {
      "cell_type": "markdown",
      "metadata": {
        "id": "view-in-github",
        "colab_type": "text"
      },
      "source": [
        "<a href=\"https://colab.research.google.com/github/nan-park/section2_project/blob/main/data_modeling.ipynb\" target=\"_parent\"><img src=\"https://colab.research.google.com/assets/colab-badge.svg\" alt=\"Open In Colab\"/></a>"
      ]
    },
    {
      "cell_type": "code",
      "execution_count": 1,
      "metadata": {
        "id": "FYND-dMIIQz-"
      },
      "outputs": [],
      "source": [
        "import pandas as pd\n",
        "import numpy as np\n",
        "import matplotlib.pyplot as plt\n",
        "from sklearn.model_selection import train_test_split, cross_val_score\n",
        "from sklearn.metrics import mean_absolute_error, mean_squared_error, r2_score\n",
        "from sklearn.linear_model import LinearRegression\n",
        "from sklearn.pipeline import make_pipeline"
      ]
    },
    {
      "cell_type": "code",
      "source": [
        "from google.colab import files\n",
        "files.upload();\n",
        "# model_data.csv\n",
        "# model_data_stationary.csv (model_data.csv를 정상성 갖도록 변환한 데이터)"
      ],
      "metadata": {
        "colab": {
          "base_uri": "https://localhost:8080/",
          "height": 112
        },
        "id": "E-jK6pU8IZ4J",
        "outputId": "f504a977-260a-4d54-b3c0-312e13fe5414"
      },
      "execution_count": 2,
      "outputs": [
        {
          "output_type": "display_data",
          "data": {
            "text/plain": [
              "<IPython.core.display.HTML object>"
            ],
            "text/html": [
              "\n",
              "     <input type=\"file\" id=\"files-2b4741f9-5fce-432b-9688-ab4a57c1a681\" name=\"files[]\" multiple disabled\n",
              "        style=\"border:none\" />\n",
              "     <output id=\"result-2b4741f9-5fce-432b-9688-ab4a57c1a681\">\n",
              "      Upload widget is only available when the cell has been executed in the\n",
              "      current browser session. Please rerun this cell to enable.\n",
              "      </output>\n",
              "      <script>// Copyright 2017 Google LLC\n",
              "//\n",
              "// Licensed under the Apache License, Version 2.0 (the \"License\");\n",
              "// you may not use this file except in compliance with the License.\n",
              "// You may obtain a copy of the License at\n",
              "//\n",
              "//      http://www.apache.org/licenses/LICENSE-2.0\n",
              "//\n",
              "// Unless required by applicable law or agreed to in writing, software\n",
              "// distributed under the License is distributed on an \"AS IS\" BASIS,\n",
              "// WITHOUT WARRANTIES OR CONDITIONS OF ANY KIND, either express or implied.\n",
              "// See the License for the specific language governing permissions and\n",
              "// limitations under the License.\n",
              "\n",
              "/**\n",
              " * @fileoverview Helpers for google.colab Python module.\n",
              " */\n",
              "(function(scope) {\n",
              "function span(text, styleAttributes = {}) {\n",
              "  const element = document.createElement('span');\n",
              "  element.textContent = text;\n",
              "  for (const key of Object.keys(styleAttributes)) {\n",
              "    element.style[key] = styleAttributes[key];\n",
              "  }\n",
              "  return element;\n",
              "}\n",
              "\n",
              "// Max number of bytes which will be uploaded at a time.\n",
              "const MAX_PAYLOAD_SIZE = 100 * 1024;\n",
              "\n",
              "function _uploadFiles(inputId, outputId) {\n",
              "  const steps = uploadFilesStep(inputId, outputId);\n",
              "  const outputElement = document.getElementById(outputId);\n",
              "  // Cache steps on the outputElement to make it available for the next call\n",
              "  // to uploadFilesContinue from Python.\n",
              "  outputElement.steps = steps;\n",
              "\n",
              "  return _uploadFilesContinue(outputId);\n",
              "}\n",
              "\n",
              "// This is roughly an async generator (not supported in the browser yet),\n",
              "// where there are multiple asynchronous steps and the Python side is going\n",
              "// to poll for completion of each step.\n",
              "// This uses a Promise to block the python side on completion of each step,\n",
              "// then passes the result of the previous step as the input to the next step.\n",
              "function _uploadFilesContinue(outputId) {\n",
              "  const outputElement = document.getElementById(outputId);\n",
              "  const steps = outputElement.steps;\n",
              "\n",
              "  const next = steps.next(outputElement.lastPromiseValue);\n",
              "  return Promise.resolve(next.value.promise).then((value) => {\n",
              "    // Cache the last promise value to make it available to the next\n",
              "    // step of the generator.\n",
              "    outputElement.lastPromiseValue = value;\n",
              "    return next.value.response;\n",
              "  });\n",
              "}\n",
              "\n",
              "/**\n",
              " * Generator function which is called between each async step of the upload\n",
              " * process.\n",
              " * @param {string} inputId Element ID of the input file picker element.\n",
              " * @param {string} outputId Element ID of the output display.\n",
              " * @return {!Iterable<!Object>} Iterable of next steps.\n",
              " */\n",
              "function* uploadFilesStep(inputId, outputId) {\n",
              "  const inputElement = document.getElementById(inputId);\n",
              "  inputElement.disabled = false;\n",
              "\n",
              "  const outputElement = document.getElementById(outputId);\n",
              "  outputElement.innerHTML = '';\n",
              "\n",
              "  const pickedPromise = new Promise((resolve) => {\n",
              "    inputElement.addEventListener('change', (e) => {\n",
              "      resolve(e.target.files);\n",
              "    });\n",
              "  });\n",
              "\n",
              "  const cancel = document.createElement('button');\n",
              "  inputElement.parentElement.appendChild(cancel);\n",
              "  cancel.textContent = 'Cancel upload';\n",
              "  const cancelPromise = new Promise((resolve) => {\n",
              "    cancel.onclick = () => {\n",
              "      resolve(null);\n",
              "    };\n",
              "  });\n",
              "\n",
              "  // Wait for the user to pick the files.\n",
              "  const files = yield {\n",
              "    promise: Promise.race([pickedPromise, cancelPromise]),\n",
              "    response: {\n",
              "      action: 'starting',\n",
              "    }\n",
              "  };\n",
              "\n",
              "  cancel.remove();\n",
              "\n",
              "  // Disable the input element since further picks are not allowed.\n",
              "  inputElement.disabled = true;\n",
              "\n",
              "  if (!files) {\n",
              "    return {\n",
              "      response: {\n",
              "        action: 'complete',\n",
              "      }\n",
              "    };\n",
              "  }\n",
              "\n",
              "  for (const file of files) {\n",
              "    const li = document.createElement('li');\n",
              "    li.append(span(file.name, {fontWeight: 'bold'}));\n",
              "    li.append(span(\n",
              "        `(${file.type || 'n/a'}) - ${file.size} bytes, ` +\n",
              "        `last modified: ${\n",
              "            file.lastModifiedDate ? file.lastModifiedDate.toLocaleDateString() :\n",
              "                                    'n/a'} - `));\n",
              "    const percent = span('0% done');\n",
              "    li.appendChild(percent);\n",
              "\n",
              "    outputElement.appendChild(li);\n",
              "\n",
              "    const fileDataPromise = new Promise((resolve) => {\n",
              "      const reader = new FileReader();\n",
              "      reader.onload = (e) => {\n",
              "        resolve(e.target.result);\n",
              "      };\n",
              "      reader.readAsArrayBuffer(file);\n",
              "    });\n",
              "    // Wait for the data to be ready.\n",
              "    let fileData = yield {\n",
              "      promise: fileDataPromise,\n",
              "      response: {\n",
              "        action: 'continue',\n",
              "      }\n",
              "    };\n",
              "\n",
              "    // Use a chunked sending to avoid message size limits. See b/62115660.\n",
              "    let position = 0;\n",
              "    do {\n",
              "      const length = Math.min(fileData.byteLength - position, MAX_PAYLOAD_SIZE);\n",
              "      const chunk = new Uint8Array(fileData, position, length);\n",
              "      position += length;\n",
              "\n",
              "      const base64 = btoa(String.fromCharCode.apply(null, chunk));\n",
              "      yield {\n",
              "        response: {\n",
              "          action: 'append',\n",
              "          file: file.name,\n",
              "          data: base64,\n",
              "        },\n",
              "      };\n",
              "\n",
              "      let percentDone = fileData.byteLength === 0 ?\n",
              "          100 :\n",
              "          Math.round((position / fileData.byteLength) * 100);\n",
              "      percent.textContent = `${percentDone}% done`;\n",
              "\n",
              "    } while (position < fileData.byteLength);\n",
              "  }\n",
              "\n",
              "  // All done.\n",
              "  yield {\n",
              "    response: {\n",
              "      action: 'complete',\n",
              "    }\n",
              "  };\n",
              "}\n",
              "\n",
              "scope.google = scope.google || {};\n",
              "scope.google.colab = scope.google.colab || {};\n",
              "scope.google.colab._files = {\n",
              "  _uploadFiles,\n",
              "  _uploadFilesContinue,\n",
              "};\n",
              "})(self);\n",
              "</script> "
            ]
          },
          "metadata": {}
        },
        {
          "output_type": "stream",
          "name": "stdout",
          "text": [
            "Saving model_data.csv to model_data.csv\n",
            "Saving model_data_stationary.csv to model_data_stationary.csv\n"
          ]
        }
      ]
    },
    {
      "cell_type": "code",
      "source": [
        "url1 = 'model_data.csv'\n",
        "url2 = 'model_data_stationary.csv'\n",
        "df = pd.read_csv(url1, index_col=0)\n",
        "df_stationary = pd.read_csv(url2, index_col=0)"
      ],
      "metadata": {
        "id": "xlN3wU2uIlUZ"
      },
      "execution_count": 3,
      "outputs": []
    },
    {
      "cell_type": "markdown",
      "source": [
        "# **데이터 모델링**"
      ],
      "metadata": {
        "id": "F9wPB1fwIu0C"
      }
    },
    {
      "cell_type": "markdown",
      "source": [
        "먼저 시계열 데이터임을 무시하고, 각각의 시계열 데이터(row)는 다른 시간대 데이터와 독립적이라고 가정하고 모델링을 해보려고 한다.<br>\n",
        "즉, 자기상관관계(autocorrelation)를 갖지 않는다고 가정한다.<br>\n",
        "그러면 일반적 선형회귀나 랜덤포레스트, XGBRegressor 등을 사용할 수 있다."
      ],
      "metadata": {
        "id": "94k0C9TMIxVK"
      }
    },
    {
      "cell_type": "markdown",
      "source": [
        "타겟 설정 -> 소비자물가상승률(%)"
      ],
      "metadata": {
        "id": "SiUmg_iAJY59"
      }
    },
    {
      "cell_type": "code",
      "source": [
        "target = '소비자물가상승률(%)'\n",
        "features = df.columns.tolist()\n",
        "features.remove(target)\n",
        "\n",
        "X = df[features]\n",
        "y = df[target]"
      ],
      "metadata": {
        "id": "f6CEFSLIL3i7"
      },
      "execution_count": 5,
      "outputs": []
    },
    {
      "cell_type": "code",
      "source": [
        "len(y)  # 데이터 개수 265개"
      ],
      "metadata": {
        "colab": {
          "base_uri": "https://localhost:8080/"
        },
        "id": "IP3lKhlGQUos",
        "outputId": "b89e0400-cda5-42bd-ec24-00506ea26b2e"
      },
      "execution_count": 15,
      "outputs": [
        {
          "output_type": "execute_result",
          "data": {
            "text/plain": [
              "265"
            ]
          },
          "metadata": {},
          "execution_count": 15
        }
      ]
    },
    {
      "cell_type": "markdown",
      "source": [
        "훈련/테스트 비율을 8:2로 잡고, \n",
        "훈련 데이터를 cross validation(cv=5)으로 한다.(데이터 개수가 적음)"
      ],
      "metadata": {
        "id": "apum4jM2Mul0"
      }
    },
    {
      "cell_type": "code",
      "source": [
        "from sklearn.model_selection import train_test_split\n",
        "X_train, X_test, y_train, y_test = train_test_split(X, y, test_size=0.2, random_state=42)"
      ],
      "metadata": {
        "id": "WavbZ02wMMZx"
      },
      "execution_count": 16,
      "outputs": []
    },
    {
      "cell_type": "markdown",
      "source": [
        "- 기준모델(Baseline model)"
      ],
      "metadata": {
        "id": "REu-gdVCJWgV"
      }
    },
    {
      "cell_type": "markdown",
      "source": [
        "타겟의 평균값을 기준모델로 잡는다."
      ],
      "metadata": {
        "id": "sCYInTXhLvCU"
      }
    },
    {
      "cell_type": "code",
      "source": [
        "y_test_pred_base = [y_train.mean()] * len(y_test)\n",
        "# 회귀 평가지표\n",
        "# from sklearn.metrics import mean_absolute_error, mean_squared_error, r2_score\n",
        "print('validation data eval(Baseline)')\n",
        "print(f'mae : {mean_absolute_error(y_test, y_test_pred_base).round(5)}')\n",
        "print(f'mse : {mean_squared_error(y_test, y_test_pred_base).round(5)}')\n",
        "print(f'rmse : {(mean_squared_error(y_test, y_test_pred_base)**0.5).round(5)}')\n",
        "print(f'r2 score : {r2_score(y_test, y_test_pred_base)}')"
      ],
      "metadata": {
        "colab": {
          "base_uri": "https://localhost:8080/"
        },
        "id": "nFQpos6ZIuJq",
        "outputId": "9d598676-fbbf-44e6-9625-5af34bc0b1cf"
      },
      "execution_count": 44,
      "outputs": [
        {
          "output_type": "stream",
          "name": "stdout",
          "text": [
            "validation data eval(Baseline)\n",
            "mae : 1.00976\n",
            "mse : 1.6075\n",
            "rmse : 1.26787\n",
            "r2 score : -0.015812847536039953\n"
          ]
        }
      ]
    },
    {
      "cell_type": "markdown",
      "source": [
        "- 다중선형회귀모델(1차)"
      ],
      "metadata": {
        "id": "hI4YjZVjO0R_"
      }
    },
    {
      "cell_type": "code",
      "source": [
        "# from sklearn.linear_model import LinearRegression\n",
        "# from sklearn.model_selection import cross_val_score\n",
        "\n",
        "# 회귀평가지표: neg_mean_absolute_error(-0.4727), r2(0.7), neg_mean_squared_error(-0.49253)\n",
        "linear = LinearRegression(normalize=True)\n",
        "linear_rmse_score = -cross_val_score(linear, X_train, y_train, scoring='neg_root_mean_squared_error', n_jobs=-1, cv=5).mean()\n",
        "print(f'Linear model rmse score : {linear_rmse_score.round(5)}')"
      ],
      "metadata": {
        "colab": {
          "base_uri": "https://localhost:8080/"
        },
        "id": "U_pAs-2OOtk9",
        "outputId": "a9592b33-e67f-450f-b8a0-e78c706d86d4"
      },
      "execution_count": 47,
      "outputs": [
        {
          "output_type": "stream",
          "name": "stdout",
          "text": [
            "Linear model rmse score : 0.70049\n"
          ]
        }
      ]
    },
    {
      "cell_type": "markdown",
      "source": [
        "- 랜덤포레스트 회귀(RandomForestRegressor)"
      ],
      "metadata": {
        "id": "CG9OF6QDUHat"
      }
    },
    {
      "cell_type": "code",
      "source": [
        "from sklearn.ensemble import RandomForestRegressor\n",
        "randomforest = RandomForestRegressor( # 하이퍼파라미터 모두 default\n",
        "    n_estimators=100,\n",
        "    criterion='squared_error',\n",
        "    max_depth=None,\n",
        "    min_samples_split=2,\n",
        "    min_samples_leaf=1,\n",
        "    max_leaf_nodes=None,\n",
        "    n_jobs=-1,\n",
        "    random_state=42,\n",
        "    verbose=3\n",
        ")\n",
        "random_mae_score = -cross_val_score(randomforest, X_train, y_train, scoring='neg_root_mean_squared_error', n_jobs=-1, cv=5).mean()\n",
        "print(f'RandomForest model rmse score : {random_mae_score.round(5)}')"
      ],
      "metadata": {
        "colab": {
          "base_uri": "https://localhost:8080/"
        },
        "id": "w1m_X2odSOV5",
        "outputId": "568f2210-b38d-42ff-b211-f2b4303061d4"
      },
      "execution_count": 80,
      "outputs": [
        {
          "output_type": "stream",
          "name": "stdout",
          "text": [
            "RandomForest model rmse score : 0.5379\n"
          ]
        }
      ]
    },
    {
      "cell_type": "markdown",
      "source": [
        "하이퍼파라미터 튜닝(직접 튜닝)"
      ],
      "metadata": {
        "id": "g1WHfcezfelS"
      }
    },
    {
      "cell_type": "code",
      "source": [
        "randomforest = RandomForestRegressor( # 하이퍼파라미터 모두 default\n",
        "    n_estimators=100,\n",
        "    criterion='squared_error',\n",
        "    max_depth=12, # default None\n",
        "    min_samples_split=2,\n",
        "    min_samples_leaf=1,\n",
        "    max_leaf_nodes=None,\n",
        "    n_jobs=-1,\n",
        "    random_state=42,\n",
        "    verbose=3\n",
        ")\n",
        "random_mae_score = -cross_val_score(randomforest, X_train, y_train, scoring='neg_root_mean_squared_error', n_jobs=-1, cv=5).mean()\n",
        "print(f'RandomForest model rmse score : {random_mae_score.round(5)}')"
      ],
      "metadata": {
        "colab": {
          "base_uri": "https://localhost:8080/"
        },
        "id": "RtZP0Ysvfgsc",
        "outputId": "2c92242d-9c19-4d25-d248-114f62312b74"
      },
      "execution_count": 91,
      "outputs": [
        {
          "output_type": "stream",
          "name": "stdout",
          "text": [
            "RandomForest model rmse score : 0.53682\n"
          ]
        }
      ]
    },
    {
      "cell_type": "markdown",
      "source": [
        "파라미터에 따라서 크게 달라지지는 않는 모습."
      ],
      "metadata": {
        "id": "sz-CWvZQg6np"
      }
    },
    {
      "cell_type": "markdown",
      "source": [
        " - XGBRegressor 회귀"
      ],
      "metadata": {
        "id": "j2iPy-lpWivw"
      }
    },
    {
      "cell_type": "code",
      "source": [
        "from xgboost import XGBRegressor\n",
        "xgb = XGBRegressor( # 하이퍼파라미터 모두 default\n",
        "    booster='gblinear',\n",
        "    objective='reg:linear',\n",
        "    eval_metric='rmse',\n",
        "    max_depth=6,\n",
        "    learning_rate=0.01,\n",
        "    colsample_bytree=1,\n",
        "    n_jobs=-1,\n",
        ")\n",
        "xgb_rmse_score = -cross_val_score(xgb, X_train, y_train, scoring='neg_root_mean_squared_error', n_jobs=-1, cv=5).mean()\n",
        "print(f'XGB model rmse score : {xgb_rmse_score.round(5)}')"
      ],
      "metadata": {
        "colab": {
          "base_uri": "https://localhost:8080/"
        },
        "id": "h44pbMY0WieO",
        "outputId": "965ed958-8478-4ee2-d828-d4d7e5dfefb1"
      },
      "execution_count": 51,
      "outputs": [
        {
          "output_type": "stream",
          "name": "stdout",
          "text": [
            "XGB model rmse score : 1.00519\n"
          ]
        }
      ]
    },
    {
      "cell_type": "markdown",
      "source": [
        "하이퍼파라미터 튜닝"
      ],
      "metadata": {
        "id": "1pKqrjdqg-MF"
      }
    },
    {
      "cell_type": "code",
      "source": [
        "xgb = XGBRegressor( # 하이퍼파라미터 모두 default\n",
        "    booster='gblinear',\n",
        "    objective='reg:linear',\n",
        "    eval_metric='rmse',\n",
        "    max_depth=6,\n",
        "    learning_rate=0.23,\n",
        "    n_jobs=-1,\n",
        "    colsample_bytree=1,\n",
        "    gamma=0,\n",
        "    subsample=0.5,\n",
        ")\n",
        "xgb_rmse_score = -cross_val_score(xgb, X_train, y_train, scoring='neg_root_mean_squared_error', n_jobs=-1, cv=5).mean()\n",
        "print(f'XGB model rmse score : {xgb_rmse_score.round(5)}')"
      ],
      "metadata": {
        "colab": {
          "base_uri": "https://localhost:8080/"
        },
        "id": "iQ2_qfciezAF",
        "outputId": "bb6bb924-586f-4602-e29e-f3d215d98b69"
      },
      "execution_count": 122,
      "outputs": [
        {
          "output_type": "stream",
          "name": "stdout",
          "text": [
            "XGB model rmse score : 0.76922\n"
          ]
        }
      ]
    }
  ]
}